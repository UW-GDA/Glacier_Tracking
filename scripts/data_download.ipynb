{
 "cells": [
  {
   "cell_type": "code",
   "execution_count": 6,
   "metadata": {},
   "outputs": [
    {
     "name": "stdout",
     "output_type": "stream",
     "text": [
      "Note: you may need to restart the kernel to use updated packages.\n"
     ]
    }
   ],
   "source": []
  },
  {
   "cell_type": "code",
   "execution_count": 7,
   "metadata": {},
   "outputs": [],
   "source": [
    "import geopandas as gpd\n",
    "import asf_search as asf\n",
    "from tqdm import tqdm"
   ]
  },
  {
   "cell_type": "code",
   "execution_count": null,
   "metadata": {},
   "outputs": [],
   "source": [
    "# Start Time • 05/01/2022, 01:54:44Z\n",
    "# Stop Time • 05/01/2022, 01:54:47Z\n",
    "# Beam Mode • IW\n",
    "# Path • 64\n",
    "# Flight Direction • ASCENDING \n",
    "# Polarization • VV \n",
    "# Absolute Orbit • 43011\n",
    "# PGE Version • 3.51\n",
    "# Full Burst ID • 064_135608_IW1\n",
    "\n",
    "# Start Time • 05/09/2022, 14:21:38Z\n",
    "# Stop Time • 05/09/2022, 14:21:41Z\n",
    "# Beam Mode • IW\n",
    "# Path • 13\n",
    "# Flight Direction • DESCENDING \n",
    "# Polarization • VV \n",
    "# Absolute Orbit • 43135\n",
    "# PGE Version • 3.51\n",
    "# Full Burst ID • 013_026559_IW1"
   ]
  },
  {
   "cell_type": "code",
   "execution_count": 8,
   "metadata": {},
   "outputs": [],
   "source": [
    "# GDA project\n",
    "# Opera burst ID - T[TrackNumber]-[BurstIdentificationNumber]-[Swath]\n",
    "operaBurst = [\n",
    "            'T064_135608_IW1',  # ASCENDING \n",
    "            'T013_026559_IW1'   # DESCENDING\n",
    "              ]\n",
    "\n",
    "wkt_search = 'POLYGON((-121.96 48.713,-121.6869 48.713,-121.6869 48.8539,-121.96 48.8539,-121.96 48.713))'\n",
    "parms = {\n",
    "        'dataset':asf.DATASET.OPERA_S1,\n",
    "        'processingLevel':asf.PRODUCT_TYPE.CSLC,\n",
    "        'intersectsWith':wkt_search,\n",
    "        'operaBurstID': operaBurst,\n",
    "        'start':'2023-01-01T00:00:00Z',\n",
    "        'end':'2020-01-01T00:00:00Z',\n",
    "        'maxResults':400,\n",
    "}\n",
    "opera_out = asf.search(**parms)"
   ]
  },
  {
   "cell_type": "code",
   "execution_count": 9,
   "metadata": {},
   "outputs": [
    {
     "name": "stdout",
     "output_type": "stream",
     "text": [
      "Found 173 scenes\n"
     ]
    }
   ],
   "source": [
    "print(f'Found {len(opera_out)} scenes')"
   ]
  },
  {
   "cell_type": "code",
   "execution_count": 10,
   "metadata": {},
   "outputs": [
    {
     "name": "stdout",
     "output_type": "stream",
     "text": [
      "Success!\n"
     ]
    }
   ],
   "source": [
    "username = 'ayush12gupta'\n",
    "password = 'Password!#12'\n",
    "\n",
    "try:\n",
    "    user_pass_session = asf.ASFSession().auth_with_creds(username, password)\n",
    "except asf.ASFAuthenticationError as e:\n",
    "    print(f'Auth failed: {e}')\n",
    "else:\n",
    "    print('Success!')"
   ]
  },
  {
   "cell_type": "code",
   "execution_count": 11,
   "metadata": {},
   "outputs": [
    {
     "name": "stderr",
     "output_type": "stream",
     "text": [
      "100%|██████████| 173/173 [23:08<00:00,  8.03s/it]\n"
     ]
    }
   ],
   "source": [
    "for i in tqdm(range(len(opera_out))):\n",
    "    opera_out[i].download(path='/mnt/Backups/ayushg12/GDA_proj/data', session=user_pass_session)"
   ]
  }
 ],
 "metadata": {
  "kernelspec": {
   "display_name": "Python 3",
   "language": "python",
   "name": "python3"
  },
  "language_info": {
   "codemirror_mode": {
    "name": "ipython",
    "version": 3
   },
   "file_extension": ".py",
   "mimetype": "text/x-python",
   "name": "python",
   "nbconvert_exporter": "python",
   "pygments_lexer": "ipython3",
   "version": "3.11.6"
  }
 },
 "nbformat": 4,
 "nbformat_minor": 2
}
