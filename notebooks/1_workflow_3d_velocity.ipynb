{
 "cells": [
  {
   "cell_type": "markdown",
   "metadata": {
    "vscode": {
     "languageId": "plaintext"
    }
   },
   "source": [
    "# Workflow for computing 3D velocities using OPERA Products\n",
    "\n",
    "In previous step we downloaded all the ascending and descending OPERA products for our selected bursts. In this notebook we will be utilising that data to compute 3D velocities."
   ]
  },
  {
   "cell_type": "markdown",
   "metadata": {},
   "source": [
    "## Perform Offset Tracking"
   ]
  },
  {
   "cell_type": "code",
   "execution_count": 2,
   "metadata": {},
   "outputs": [],
   "source": [
    "aoi_wkt = 'POLYGON((-121.96 48.713,-121.6869 48.713,-121.6869 48.8539,-121.96 48.8539,-121.96 48.713))'"
   ]
  },
  {
   "cell_type": "code",
   "execution_count": null,
   "metadata": {},
   "outputs": [],
   "source": [
    "!python ../scripts/time_series_offsets.py --aoi_wkt \"$aoi_wkt\" --glims_path ../shapefiles/glims_polygons.shp --data_path ../data/"
   ]
  },
  {
   "cell_type": "markdown",
   "metadata": {},
   "source": [
    "The above script performs offset tracking for both ascending and descending tracks and stores them at `../offsets`."
   ]
  },
  {
   "cell_type": "markdown",
   "metadata": {},
   "source": [
    "## Perform SBAS - Time-series refinement"
   ]
  },
  {
   "cell_type": "code",
   "execution_count": 1,
   "metadata": {},
   "outputs": [
    {
     "name": "stdout",
     "output_type": "stream",
     "text": [
      "usage: compute_sbas.py [-h] [--offsets OFFSETS] [--var VAR]\n",
      "\n",
      "Inversion of 3D displacements using SBAS\n",
      "\n",
      "options:\n",
      "  -h, --help         show this help message and exit\n",
      "  --offsets OFFSETS  Path to offset files\n",
      "  --var VAR          Variable to invert [Options: \"az\" and \"slrng\"]\n"
     ]
    }
   ],
   "source": [
    "!python ../scripts/compute_sbas.py --help"
   ]
  },
  {
   "cell_type": "markdown",
   "metadata": {},
   "source": [
    "Above script is used for performing SBAS, here we need to perform SBAS for both azimuthal and sland range directions for ascending and descending tracks."
   ]
  },
  {
   "cell_type": "code",
   "execution_count": null,
   "metadata": {},
   "outputs": [],
   "source": [
    "# Performing SBAS on azimuth offsets of ascending track\n",
    "!python ../scripts/compute_sbas.py --offsets ../offsets/ascending --var az\n",
    "# Performing SBAS on azimuth offsets of descending track\n",
    "!python ../scripts/compute_sbas.py --offsets ../offsets/descending --var az"
   ]
  },
  {
   "cell_type": "code",
   "execution_count": null,
   "metadata": {},
   "outputs": [],
   "source": [
    "# Performing SBAS on sland range offsets of ascending track\n",
    "!python ../scripts/compute_sbas.py --offsets ../offsets/ascending --var slrng\n",
    "# Performing SBAS on sland range offsets of descending track\n",
    "!python ../scripts/compute_sbas.py --offsets ../offsets/descending --var slrng"
   ]
  },
  {
   "cell_type": "markdown",
   "metadata": {},
   "source": [
    "## Compute 3D velocities\n",
    "\n",
    "We will be using slant range and azimuth direction displacements from both ascending and descending tracks for computing 3D velocities, based on the relation between eastward, northward and vertical velocities with these displacements."
   ]
  },
  {
   "cell_type": "code",
   "execution_count": 2,
   "metadata": {},
   "outputs": [
    {
     "name": "stdout",
     "output_type": "stream",
     "text": [
      "usage: 3d_inversion.py [-h] [--datapath DATAPATH] [--aoi_wkt AOI_WKT]\n",
      "\n",
      "Inversion of 3D displacements using SBAS\n",
      "\n",
      "options:\n",
      "  -h, --help           show this help message and exit\n",
      "  --datapath DATAPATH  Path to data directory\n",
      "  --aoi_wkt AOI_WKT    WKT string of Area of Interest\n"
     ]
    }
   ],
   "source": [
    "!python ../scripts/3d_inversion.py --help"
   ]
  },
  {
   "cell_type": "code",
   "execution_count": null,
   "metadata": {},
   "outputs": [],
   "source": [
    "!python ../scripts/3d_inversion.py --datapath ../offsets/ --aoi_wkt \"$aoi_wkt\""
   ]
  },
  {
   "cell_type": "markdown",
   "metadata": {},
   "source": [
    "After the execution of above step the resulting 3D velocities will be stored as a nDarray into your `datapath` as `3d_vel.nc`."
   ]
  }
 ],
 "metadata": {
  "kernelspec": {
   "display_name": "base",
   "language": "python",
   "name": "python3"
  },
  "language_info": {
   "codemirror_mode": {
    "name": "ipython",
    "version": 3
   },
   "file_extension": ".py",
   "mimetype": "text/x-python",
   "name": "python",
   "nbconvert_exporter": "python",
   "pygments_lexer": "ipython3",
   "version": "3.12.7"
  }
 },
 "nbformat": 4,
 "nbformat_minor": 2
}
