{
 "cells": [
  {
   "cell_type": "markdown",
   "metadata": {},
   "source": [
    "## Downloading OPERA data\n",
    "\n",
    "Here we would need to know the `Operas Burst IDs`, `Start date`, `End date`, and `Region of interest` for querying all the OPERA products for a site"
   ]
  },
  {
   "cell_type": "code",
   "execution_count": null,
   "metadata": {},
   "outputs": [],
   "source": [
    "import geopandas as gpd\n",
    "import asf_search as asf\n",
    "from tqdm import tqdm"
   ]
  },
  {
   "cell_type": "markdown",
   "metadata": {},
   "source": [
    "Here we will be using ASF search python library for querying burst products over our period of observation. For searching burst ID over my region of interest I utilised [ASF Data Search](https://search.asf.alaska.edu/#/) website."
   ]
  },
  {
   "cell_type": "code",
   "execution_count": null,
   "metadata": {},
   "outputs": [],
   "source": [
    "# Search for all Sentinel-1 data in the ASF archive that intersects with the\n",
    "operaBurst = [\n",
    "            'T064_135608_IW1',  # ASCENDING \n",
    "            'T013_026559_IW1'   # DESCENDING\n",
    "              ]\n",
    "\n",
    "# Region of interest\n",
    "wkt_search = 'POLYGON((-121.96 48.713,-121.6869 48.713,-121.6869 48.8539,-121.96 48.8539,-121.96 48.713))'\n",
    "\n",
    "parms = {\n",
    "        'dataset':asf.DATASET.OPERA_S1,\n",
    "        'processingLevel':asf.PRODUCT_TYPE.CSLC,\n",
    "        'intersectsWith':wkt_search,\n",
    "        'operaBurstID': operaBurst,\n",
    "        'start':'2023-01-01T00:00:00Z',\n",
    "        'end':'2020-01-01T00:00:00Z',\n",
    "        'maxResults':1000,\n",
    "}\n",
    "opera_out = asf.search(**parms)"
   ]
  },
  {
   "cell_type": "code",
   "execution_count": null,
   "metadata": {},
   "outputs": [],
   "source": [
    "# Authenticate with ASF using your username and password\n",
    "username = 'USERNAME'\n",
    "password = 'PASSWORD'\n",
    "\n",
    "try:\n",
    "    user_pass_session = asf.ASFSession().auth_with_creds(username, password)\n",
    "except asf.ASFAuthenticationError as e:\n",
    "    print(f'Auth failed: {e}')\n",
    "else:\n",
    "    print('Success!')"
   ]
  },
  {
   "cell_type": "markdown",
   "metadata": {},
   "source": [
    "**Downloading all the the OPERA products over our region of interest for our selected burst ID between our observation period**"
   ]
  },
  {
   "cell_type": "code",
   "execution_count": null,
   "metadata": {},
   "outputs": [],
   "source": [
    "for i in tqdm(range(len(opera_out))):\n",
    "    opera_out[i].download(path='/mnt/Backups/ayushg12/GDA_proj/data', session=user_pass_session)"
   ]
  }
 ],
 "metadata": {
  "kernelspec": {
   "display_name": "isce",
   "language": "python",
   "name": "python3"
  },
  "language_info": {
   "name": "python",
   "version": "3.10.16"
  }
 },
 "nbformat": 4,
 "nbformat_minor": 2
}
